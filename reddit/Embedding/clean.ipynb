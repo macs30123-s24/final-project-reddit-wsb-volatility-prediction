{
 "cells": [
  {
   "cell_type": "markdown",
   "id": "3533f055",
   "metadata": {},
   "source": [
    "### Task 2: Embedding Preparation – Stage 1: Data Cleaning\n",
    "\n",
    "This notebook implements the first stage of our embedding pipeline, focused on preparing raw Reddit text for downstream modeling. Specifically, we:\n",
    "\n",
    "1. **Objective**: Ensure that each comment or post contains valid text and remove noise before generating embeddings.\n",
    "\n",
    "2. **Workflow Steps**:\n",
    "   - Verify that the `selftext` column is non-null, non-empty, and not a placeholder (`[removed]` or `[deleted]`).\n",
    "   - Strip out URLs, Markdown syntax characters, and extra whitespace.\n",
    "   - Normalize text to lowercase and trim surrounding spaces.\n",
    "\n",
    "3. **Execution Environment**: Runs on the Midway cluster via an interactive `sinteractive` session, invoking a PySpark `SparkSession`.\n",
    "\n",
    "4. **Full Pipeline and Design Details**: See the project README for an end-to-end overview of our large-scale computing design, from data ingestion through embedding generation.  \n"
   ]
  },
  {
   "cell_type": "markdown",
   "id": "c41b911f",
   "metadata": {},
   "source": [
    "#### 2.1.0 Spark session calling"
   ]
  },
  {
   "cell_type": "code",
   "execution_count": null,
   "id": "603b65bb",
   "metadata": {},
   "outputs": [
    {
     "name": "stderr",
     "output_type": "stream",
     "text": [
      "Setting default log level to \"WARN\".\n",
      "To adjust logging level use sc.setLogLevel(newLevel). For SparkR, use setLogLevel(newLevel).\n"
     ]
    },
    {
     "name": "stdout",
     "output_type": "stream",
     "text": [
      "25/05/28 12:43:59 WARN NativeCodeLoader: Unable to load native-hadoop library for your platform... using builtin-java classes where applicable\n",
      "✅ Spark master = local[32] | shuffle = 256\n"
     ]
    }
   ],
   "source": [
    "import os, sys\n",
    "os.environ[\"PYSPARK_PYTHON\"]        = sys.executable\n",
    "os.environ[\"PYSPARK_DRIVER_PYTHON\"] = sys.executable\n",
    "\n",
    "from pyspark.sql import SparkSession\n",
    "\n",
    "N_CORE_LOCAL   = 32         \n",
    "SHUFFLE_PART   = 256         \n",
    "DRIVER_MEMORY  = \"12g\"       \n",
    "\n",
    "spark = (SparkSession.builder\n",
    "         .appName(\"WSB-FinBERT-local32\")\n",
    "         .master(f\"local[{N_CORE_LOCAL}]\")\n",
    "         .config(\"spark.sql.shuffle.partitions\", SHUFFLE_PART)\n",
    "         .config(\"spark.driver.memory\", DRIVER_MEMORY)\n",
    "         .getOrCreate())\n",
    "\n",
    "print(\"✅ Spark master =\", spark.sparkContext.master,\n",
    "      \"| shuffle =\", SHUFFLE_PART)\n"
   ]
  },
  {
   "cell_type": "code",
   "execution_count": null,
   "id": "9b33c5ea",
   "metadata": {},
   "outputs": [],
   "source": [
    "### Stop key\n",
    "spark.stop()"
   ]
  },
  {
   "cell_type": "markdown",
   "id": "31c3cb32",
   "metadata": {},
   "source": [
    "#### 2.1.1: Examine column information of input data"
   ]
  },
  {
   "cell_type": "code",
   "execution_count": 2,
   "id": "c5d7a3d7",
   "metadata": {},
   "outputs": [
    {
     "name": "stderr",
     "output_type": "stream",
     "text": [
      "                                                                                \r"
     ]
    },
    {
     "name": "stdout",
     "output_type": "stream",
     "text": [
      "root\n",
      " |-- id: string (nullable = true)\n",
      " |-- created_utc: long (nullable = true)\n",
      " |-- subreddit: string (nullable = true)\n",
      " |-- title: string (nullable = true)\n",
      " |-- selftext: string (nullable = true)\n",
      " |-- is_comment: boolean (nullable = true)\n",
      " |-- ticker: string (nullable = true)\n",
      "\n",
      "+------+-----------+--------------+-------------------------------------------------------------------------------------------------------------------------------------------------------------------------------------------------------------------------------------------------------------------------------+---------+----------+------+\n",
      "|id    |created_utc|subreddit     |title                                                                                                                                                                                                                                                                          |selftext |is_comment|ticker|\n",
      "+------+-----------+--------------+-------------------------------------------------------------------------------------------------------------------------------------------------------------------------------------------------------------------------------------------------------------------------------+---------+----------+------+\n",
      "|lbp8ve|1612364120 |wallstreetbets|This will answer ALL of your $GME questions...                                                                                                                                                                                                                                 |[removed]|false     |GME   |\n",
      "|o09sz9|1623747438 |wallstreetbets|BUY $WPG when the market opens today! Get on the ground floor of the next $GME and $AMC!                                                                                                                                                                                       |[removed]|false     |GME   |\n",
      "|l6quy1|1611818730 |wallstreetbets|Should I buy GME, AMC, or NOK?                                                                                                                                                                                                                                                 |[removed]|false     |GME   |\n",
      "|m2dzdr|1615424271 |wallstreetbets|So basically, I was thinking about going to Walmart, buying some those cash cards with my credit card, put that on GME then go into massive debt if this all goes wrong. Any last words of encouragement before my girlfriend breaks up with me and I lose all my life savings?|[deleted]|false     |GME   |\n",
      "|l6cs37|1611777141 |wallstreetbets|(Genuine Question) AMC and GME spiked at 4pm on the dot, did Melvin buy and will they sell and crash the stock? If so when?                                                                                                                                                    |[deleted]|false     |GME   |\n",
      "+------+-----------+--------------+-------------------------------------------------------------------------------------------------------------------------------------------------------------------------------------------------------------------------------------------------------------------------------+---------+----------+------+\n",
      "only showing top 5 rows\n",
      "\n"
     ]
    }
   ],
   "source": [
    "# path to the parquet directory\n",
    "PATH_STAGE2 = \"/scratch/midway3/zhengzhiyu6689/macs30123/project/reddit/stage02_with_ticker\"\n",
    "\n",
    "# read the whole dataset\n",
    "df = spark.read.parquet(PATH_STAGE2)\n",
    "\n",
    "# print schema (column names + types)\n",
    "df.printSchema()\n",
    "\n",
    "# optional: show a small sample to eyeball values\n",
    "df.show(5, truncate=False)\n"
   ]
  },
  {
   "cell_type": "markdown",
   "id": "60bb9be3",
   "metadata": {},
   "source": [
    "#### 2.1.2 Examine the null of text column"
   ]
  },
  {
   "cell_type": "code",
   "execution_count": null,
   "id": "5aa53498",
   "metadata": {},
   "outputs": [
    {
     "name": "stderr",
     "output_type": "stream",
     "text": [
      "                                                                                \r"
     ]
    },
    {
     "name": "stdout",
     "output_type": "stream",
     "text": [
      "非空文本行数 = 21745905\n",
      "+----------+------------------------------------------------------------------------------------------------------------------------+------+\n",
      "|is_comment|                                                                                                                selftext|ticker|\n",
      "+----------+------------------------------------------------------------------------------------------------------------------------+------+\n",
      "|     false|Most people cannot trade == most people are HOLDING!\\n\\nI think these dips are all a farce to scare people off tomorr...|   GME|\n",
      "|     false|I’m trying to jump in on the holy GME from Australia. Market in the USA has opened 3 minutes ago. And its saying I am...|   GME|\n",
      "|     false|&amp;#x200B;\\n\\n[I sold some of my GME calls back when it was 75$ Friday so I decided to hop back in with the profits...|   GME|\n",
      "|     false|I’ve had enough with robinhoods bullshit crashing , they forced a margin call on me the other day so my positions wen...|   GME|\n",
      "|     false|It's the gamespot stock. I heard it's doing pretty well and will soon be going on an interstellar mission to find lif...|   GME|\n",
      "|     false|\\nI saw few different posts saying we should buy 51% of Reddit Stock to own the subreddit and change rules, although ...|   GME|\n",
      "|     false|                                              I wanna do my bit for GME from the U.K. What stock trading apps are best ?|   GME|\n",
      "|     false|Good evening OG and newbie autists,\\n\\n**TLDR = HOLD GME for as long as you can this DD is for AFTER the squeeze, onc...|   GME|\n",
      "|     false|My Dudes,\\n\\nThis last week has been quite the fuckin experience.\\n\\nI have never traded before in my entire life unt...|   GME|\n",
      "|     false|This is getting ridiculous. Half the sub is yelling HOLD and the other half is yelling SELL. I'm holding my shares an...|   GME|\n",
      "|     false|If you really think about it we could keep pumping $AMC just the way we did with $GME. We have the power to make it g...|   GME|\n",
      "|     false|If you really think about it we could keep pumping $AMC just the way we did with $GME. We have the power to make it g...|   GME|\n",
      "|     false|I have a bit of a theory that I believe that retail shorters are actually helping us out, hear me out.\\n\\nNot a finan...|   GME|\n",
      "|     false|I'll be honest WSB... I don't have the balls some of you have. I can't YOLO my entire portfolio into 1 fund/stock. So...|   GME|\n",
      "|     false|Bought GME at $97 then sold at $150 back before GME hit over $300. Bought back at $245 and have been holding since.\\n...|   GME|\n",
      "|     false|First, I'd like to thank this community for allowing me to finally transition into the stock market even if we are be...|   GME|\n",
      "|     false|I've been debating to post this or not but I feel sharing it and writing this down will help. \\n\\nI've been really de...|   GME|\n",
      "|     false|A lot of us retards are proud retards today for being a part of this history, before the boomers come hammering down ...|   GME|\n",
      "|     false|                                 Trying to buy GME and the server is down after I transfered money, trading 212 Joke!!!!|   GME|\n",
      "|     false|I sold a single GME call yesterday for 175 exp 2/12 that cost 40. I meant to buy the call, yes very stupid. I have 18...|   GME|\n",
      "+----------+------------------------------------------------------------------------------------------------------------------------+------+\n",
      "only showing top 20 rows\n",
      "\n"
     ]
    }
   ],
   "source": [
    "from pyspark.sql import functions as F\n",
    "\n",
    "# Change this path to the Parquet directory you want to validate\n",
    "SRC_PATH = \"/scratch/midway3/zhengzhiyu6689/macs30123/project/reddit/stage02_with_ticker\"\n",
    "\n",
    "# Read the Parquet dataset from the specified source path\n",
    "df = spark.read.parquet(SRC_PATH)\n",
    "\n",
    "# Filter out records where 'selftext' is null, empty, or contains only \"[removed]\" or \"[deleted]\"\n",
    "non_empty = df.filter(\n",
    "    (F.col(\"selftext\").isNotNull()) &\n",
    "    (F.trim(\"selftext\") != \"\") &\n",
    "    (~F.lower(F.trim(\"selftext\")).isin(\"[removed]\", \"[deleted]\"))\n",
    ")\n",
    "\n",
    "# Count how many rows have non-empty, valid 'selftext' content\n",
    "print(\"Number of non-empty text rows =\", non_empty.count())\n",
    "\n",
    "# Display a sample of 20 rows showing whether it's a comment, the text body, and the extracted ticker\n",
    "non_empty.select(\"is_comment\", \"selftext\", \"ticker\").show(20, truncate=120)\n",
    "\n"
   ]
  },
  {
   "cell_type": "markdown",
   "id": "ca3e7a39",
   "metadata": {},
   "source": [
    "#### 2.1.3 preliminary text cleaning"
   ]
  },
  {
   "cell_type": "code",
   "execution_count": null,
   "id": "29b3aefd",
   "metadata": {},
   "outputs": [
    {
     "name": "stderr",
     "output_type": "stream",
     "text": [
      "[Stage 2:======================================================>(655 + 7) / 662]\r"
     ]
    },
    {
     "name": "stdout",
     "output_type": "stream",
     "text": [
      "25/05/28 10:39:41 WARN MemoryManager: Total allocation exceeds 95.00% (5,876,770,333 bytes) of heap memory\n",
      "Scaling row group sizes to 99.51% for 44 writers\n",
      "25/05/28 10:39:41 WARN MemoryManager: Total allocation exceeds 95.00% (5,876,770,333 bytes) of heap memory\n",
      "Scaling row group sizes to 97.30% for 45 writers\n",
      "25/05/28 10:39:41 WARN MemoryManager: Total allocation exceeds 95.00% (5,876,770,333 bytes) of heap memory\n",
      "Scaling row group sizes to 95.19% for 46 writers\n",
      "25/05/28 10:39:41 WARN MemoryManager: Total allocation exceeds 95.00% (5,876,770,333 bytes) of heap memory\n",
      "Scaling row group sizes to 93.16% for 47 writers\n",
      "25/05/28 10:39:41 WARN MemoryManager: Total allocation exceeds 95.00% (5,876,770,333 bytes) of heap memory\n",
      "Scaling row group sizes to 91.22% for 48 writers\n",
      "25/05/28 10:39:41 WARN MemoryManager: Total allocation exceeds 95.00% (5,876,770,333 bytes) of heap memory\n",
      "Scaling row group sizes to 89.36% for 49 writers\n",
      "25/05/28 10:39:41 WARN MemoryManager: Total allocation exceeds 95.00% (5,876,770,333 bytes) of heap memory\n",
      "Scaling row group sizes to 87.57% for 50 writers\n",
      "25/05/28 10:39:41 WARN MemoryManager: Total allocation exceeds 95.00% (5,876,770,333 bytes) of heap memory\n",
      "Scaling row group sizes to 85.85% for 51 writers\n",
      "25/05/28 10:39:41 WARN MemoryManager: Total allocation exceeds 95.00% (5,876,770,333 bytes) of heap memory\n",
      "Scaling row group sizes to 84.20% for 52 writers\n",
      "25/05/28 10:39:41 WARN MemoryManager: Total allocation exceeds 95.00% (5,876,770,333 bytes) of heap memory\n",
      "Scaling row group sizes to 82.61% for 53 writers\n",
      "25/05/28 10:39:41 WARN MemoryManager: Total allocation exceeds 95.00% (5,876,770,333 bytes) of heap memory\n",
      "Scaling row group sizes to 81.08% for 54 writers\n",
      "25/05/28 10:39:41 WARN MemoryManager: Total allocation exceeds 95.00% (5,876,770,333 bytes) of heap memory\n",
      "Scaling row group sizes to 79.61% for 55 writers\n",
      "25/05/28 10:39:41 WARN MemoryManager: Total allocation exceeds 95.00% (5,876,770,333 bytes) of heap memory\n",
      "Scaling row group sizes to 78.19% for 56 writers\n",
      "25/05/28 10:39:41 WARN MemoryManager: Total allocation exceeds 95.00% (5,876,770,333 bytes) of heap memory\n",
      "Scaling row group sizes to 76.82% for 57 writers\n",
      "25/05/28 10:39:41 WARN MemoryManager: Total allocation exceeds 95.00% (5,876,770,333 bytes) of heap memory\n",
      "Scaling row group sizes to 75.49% for 58 writers\n",
      "25/05/28 10:39:41 WARN MemoryManager: Total allocation exceeds 95.00% (5,876,770,333 bytes) of heap memory\n",
      "Scaling row group sizes to 74.21% for 59 writers\n",
      "25/05/28 10:39:41 WARN MemoryManager: Total allocation exceeds 95.00% (5,876,770,333 bytes) of heap memory\n",
      "Scaling row group sizes to 72.98% for 60 writers\n",
      "25/05/28 10:39:41 WARN MemoryManager: Total allocation exceeds 95.00% (5,876,770,333 bytes) of heap memory\n",
      "Scaling row group sizes to 71.78% for 61 writers\n",
      "25/05/28 10:39:41 WARN MemoryManager: Total allocation exceeds 95.00% (5,876,770,333 bytes) of heap memory\n",
      "Scaling row group sizes to 70.62% for 62 writers\n",
      "25/05/28 10:39:41 WARN MemoryManager: Total allocation exceeds 95.00% (5,876,770,333 bytes) of heap memory\n",
      "Scaling row group sizes to 69.50% for 63 writers\n",
      "25/05/28 10:39:41 WARN MemoryManager: Total allocation exceeds 95.00% (5,876,770,333 bytes) of heap memory\n",
      "Scaling row group sizes to 68.41% for 64 writers\n"
     ]
    },
    {
     "name": "stderr",
     "output_type": "stream",
     "text": [
      "[Stage 4:>                                                       (0 + 64) / 200]\r"
     ]
    },
    {
     "name": "stdout",
     "output_type": "stream",
     "text": [
      "25/05/28 10:39:42 WARN MemoryManager: Total allocation exceeds 95.00% (5,876,770,333 bytes) of heap memory\n",
      "Scaling row group sizes to 69.50% for 63 writers\n",
      "25/05/28 10:39:42 WARN MemoryManager: Total allocation exceeds 95.00% (5,876,770,333 bytes) of heap memory\n",
      "Scaling row group sizes to 70.62% for 62 writers\n",
      "25/05/28 10:39:42 WARN MemoryManager: Total allocation exceeds 95.00% (5,876,770,333 bytes) of heap memory\n",
      "Scaling row group sizes to 71.78% for 61 writers\n",
      "25/05/28 10:39:42 WARN MemoryManager: Total allocation exceeds 95.00% (5,876,770,333 bytes) of heap memory\n",
      "Scaling row group sizes to 72.98% for 60 writers\n",
      "25/05/28 10:39:42 WARN MemoryManager: Total allocation exceeds 95.00% (5,876,770,333 bytes) of heap memory\n",
      "Scaling row group sizes to 74.21% for 59 writers\n",
      "25/05/28 10:39:42 WARN MemoryManager: Total allocation exceeds 95.00% (5,876,770,333 bytes) of heap memory\n",
      "Scaling row group sizes to 75.49% for 58 writers\n",
      "25/05/28 10:39:42 WARN MemoryManager: Total allocation exceeds 95.00% (5,876,770,333 bytes) of heap memory\n",
      "Scaling row group sizes to 76.82% for 57 writers\n",
      "25/05/28 10:39:42 WARN MemoryManager: Total allocation exceeds 95.00% (5,876,770,333 bytes) of heap memory\n",
      "Scaling row group sizes to 78.19% for 56 writers\n",
      "25/05/28 10:39:42 WARN MemoryManager: Total allocation exceeds 95.00% (5,876,770,333 bytes) of heap memory\n",
      "Scaling row group sizes to 79.61% for 55 writers\n",
      "25/05/28 10:39:42 WARN MemoryManager: Total allocation exceeds 95.00% (5,876,770,333 bytes) of heap memory\n",
      "Scaling row group sizes to 81.08% for 54 writers\n",
      "25/05/28 10:39:42 WARN MemoryManager: Total allocation exceeds 95.00% (5,876,770,333 bytes) of heap memory\n",
      "Scaling row group sizes to 82.61% for 53 writers\n",
      "25/05/28 10:39:42 WARN MemoryManager: Total allocation exceeds 95.00% (5,876,770,333 bytes) of heap memory\n",
      "Scaling row group sizes to 84.20% for 52 writers\n",
      "25/05/28 10:39:42 WARN MemoryManager: Total allocation exceeds 95.00% (5,876,770,333 bytes) of heap memory\n",
      "Scaling row group sizes to 85.85% for 51 writers\n",
      "25/05/28 10:39:42 WARN MemoryManager: Total allocation exceeds 95.00% (5,876,770,333 bytes) of heap memory\n",
      "Scaling row group sizes to 87.57% for 50 writers\n",
      "25/05/28 10:39:42 WARN MemoryManager: Total allocation exceeds 95.00% (5,876,770,333 bytes) of heap memory\n",
      "Scaling row group sizes to 89.36% for 49 writers\n",
      "25/05/28 10:39:42 WARN MemoryManager: Total allocation exceeds 95.00% (5,876,770,333 bytes) of heap memory\n",
      "Scaling row group sizes to 91.22% for 48 writers\n",
      "25/05/28 10:39:42 WARN MemoryManager: Total allocation exceeds 95.00% (5,876,770,333 bytes) of heap memory\n",
      "Scaling row group sizes to 93.16% for 47 writers\n",
      "25/05/28 10:39:42 WARN MemoryManager: Total allocation exceeds 95.00% (5,876,770,333 bytes) of heap memory\n",
      "Scaling row group sizes to 95.19% for 46 writers\n",
      "25/05/28 10:39:42 WARN MemoryManager: Total allocation exceeds 95.00% (5,876,770,333 bytes) of heap memory\n",
      "Scaling row group sizes to 97.30% for 45 writers\n",
      "25/05/28 10:39:42 WARN MemoryManager: Total allocation exceeds 95.00% (5,876,770,333 bytes) of heap memory\n",
      "Scaling row group sizes to 99.51% for 44 writers\n"
     ]
    },
    {
     "name": "stderr",
     "output_type": "stream",
     "text": [
      "[Stage 4:=================>                                     (64 + 64) / 200]\r"
     ]
    },
    {
     "name": "stdout",
     "output_type": "stream",
     "text": [
      "25/05/28 10:39:43 WARN MemoryManager: Total allocation exceeds 95.00% (5,876,770,333 bytes) of heap memory\n",
      "Scaling row group sizes to 99.51% for 44 writers\n",
      "25/05/28 10:39:43 WARN MemoryManager: Total allocation exceeds 95.00% (5,876,770,333 bytes) of heap memory\n",
      "Scaling row group sizes to 97.30% for 45 writers\n",
      "25/05/28 10:39:43 WARN MemoryManager: Total allocation exceeds 95.00% (5,876,770,333 bytes) of heap memory\n",
      "Scaling row group sizes to 95.19% for 46 writers\n",
      "25/05/28 10:39:43 WARN MemoryManager: Total allocation exceeds 95.00% (5,876,770,333 bytes) of heap memory\n",
      "Scaling row group sizes to 93.16% for 47 writers\n",
      "25/05/28 10:39:43 WARN MemoryManager: Total allocation exceeds 95.00% (5,876,770,333 bytes) of heap memory\n",
      "Scaling row group sizes to 91.22% for 48 writers\n",
      "25/05/28 10:39:43 WARN MemoryManager: Total allocation exceeds 95.00% (5,876,770,333 bytes) of heap memory\n",
      "Scaling row group sizes to 89.36% for 49 writers\n",
      "25/05/28 10:39:43 WARN MemoryManager: Total allocation exceeds 95.00% (5,876,770,333 bytes) of heap memory\n",
      "Scaling row group sizes to 87.57% for 50 writers\n",
      "25/05/28 10:39:43 WARN MemoryManager: Total allocation exceeds 95.00% (5,876,770,333 bytes) of heap memory\n",
      "Scaling row group sizes to 85.85% for 51 writers\n",
      "25/05/28 10:39:43 WARN MemoryManager: Total allocation exceeds 95.00% (5,876,770,333 bytes) of heap memory\n",
      "Scaling row group sizes to 84.20% for 52 writers\n",
      "25/05/28 10:39:43 WARN MemoryManager: Total allocation exceeds 95.00% (5,876,770,333 bytes) of heap memory\n",
      "Scaling row group sizes to 82.61% for 53 writers\n",
      "25/05/28 10:39:43 WARN MemoryManager: Total allocation exceeds 95.00% (5,876,770,333 bytes) of heap memory\n",
      "Scaling row group sizes to 81.08% for 54 writers\n",
      "25/05/28 10:39:43 WARN MemoryManager: Total allocation exceeds 95.00% (5,876,770,333 bytes) of heap memory\n",
      "Scaling row group sizes to 79.61% for 55 writers\n",
      "25/05/28 10:39:43 WARN MemoryManager: Total allocation exceeds 95.00% (5,876,770,333 bytes) of heap memory\n",
      "Scaling row group sizes to 78.19% for 56 writers\n",
      "25/05/28 10:39:43 WARN MemoryManager: Total allocation exceeds 95.00% (5,876,770,333 bytes) of heap memory\n",
      "Scaling row group sizes to 76.82% for 57 writers\n",
      "25/05/28 10:39:43 WARN MemoryManager: Total allocation exceeds 95.00% (5,876,770,333 bytes) of heap memory\n",
      "Scaling row group sizes to 75.49% for 58 writers\n",
      "25/05/28 10:39:43 WARN MemoryManager: Total allocation exceeds 95.00% (5,876,770,333 bytes) of heap memory\n",
      "Scaling row group sizes to 74.21% for 59 writers\n",
      "25/05/28 10:39:43 WARN MemoryManager: Total allocation exceeds 95.00% (5,876,770,333 bytes) of heap memory\n",
      "Scaling row group sizes to 72.98% for 60 writers\n",
      "25/05/28 10:39:43 WARN MemoryManager: Total allocation exceeds 95.00% (5,876,770,333 bytes) of heap memory\n",
      "Scaling row group sizes to 71.78% for 61 writers\n",
      "25/05/28 10:39:43 WARN MemoryManager: Total allocation exceeds 95.00% (5,876,770,333 bytes) of heap memory\n",
      "Scaling row group sizes to 70.62% for 62 writers\n",
      "25/05/28 10:39:43 WARN MemoryManager: Total allocation exceeds 95.00% (5,876,770,333 bytes) of heap memory\n",
      "Scaling row group sizes to 69.50% for 63 writers\n",
      "25/05/28 10:39:43 WARN MemoryManager: Total allocation exceeds 95.00% (5,876,770,333 bytes) of heap memory\n",
      "Scaling row group sizes to 68.41% for 64 writers\n",
      "25/05/28 10:39:43 WARN MemoryManager: Total allocation exceeds 95.00% (5,876,770,333 bytes) of heap memory\n",
      "Scaling row group sizes to 69.50% for 63 writers\n",
      "25/05/28 10:39:43 WARN MemoryManager: Total allocation exceeds 95.00% (5,876,770,333 bytes) of heap memory\n",
      "Scaling row group sizes to 70.62% for 62 writers\n",
      "25/05/28 10:39:43 WARN MemoryManager: Total allocation exceeds 95.00% (5,876,770,333 bytes) of heap memory\n",
      "Scaling row group sizes to 71.78% for 61 writers\n",
      "25/05/28 10:39:44 WARN MemoryManager: Total allocation exceeds 95.00% (5,876,770,333 bytes) of heap memory\n",
      "Scaling row group sizes to 72.98% for 60 writers\n",
      "25/05/28 10:39:44 WARN MemoryManager: Total allocation exceeds 95.00% (5,876,770,333 bytes) of heap memory\n",
      "Scaling row group sizes to 74.21% for 59 writers\n",
      "25/05/28 10:39:44 WARN MemoryManager: Total allocation exceeds 95.00% (5,876,770,333 bytes) of heap memory\n",
      "Scaling row group sizes to 75.49% for 58 writers\n",
      "25/05/28 10:39:44 WARN MemoryManager: Total allocation exceeds 95.00% (5,876,770,333 bytes) of heap memory\n",
      "Scaling row group sizes to 76.82% for 57 writers\n",
      "25/05/28 10:39:44 WARN MemoryManager: Total allocation exceeds 95.00% (5,876,770,333 bytes) of heap memory\n",
      "Scaling row group sizes to 78.19% for 56 writers\n",
      "25/05/28 10:39:44 WARN MemoryManager: Total allocation exceeds 95.00% (5,876,770,333 bytes) of heap memory\n",
      "Scaling row group sizes to 79.61% for 55 writers\n"
     ]
    },
    {
     "name": "stderr",
     "output_type": "stream",
     "text": [
      "[Stage 4:==================>                                    (67 + 64) / 200]\r"
     ]
    },
    {
     "name": "stdout",
     "output_type": "stream",
     "text": [
      "25/05/28 10:39:44 WARN MemoryManager: Total allocation exceeds 95.00% (5,876,770,333 bytes) of heap memory\n",
      "Scaling row group sizes to 81.08% for 54 writers\n",
      "25/05/28 10:39:44 WARN MemoryManager: Total allocation exceeds 95.00% (5,876,770,333 bytes) of heap memory\n",
      "Scaling row group sizes to 82.61% for 53 writers\n",
      "25/05/28 10:39:44 WARN MemoryManager: Total allocation exceeds 95.00% (5,876,770,333 bytes) of heap memory\n",
      "Scaling row group sizes to 84.20% for 52 writers\n",
      "25/05/28 10:39:44 WARN MemoryManager: Total allocation exceeds 95.00% (5,876,770,333 bytes) of heap memory\n",
      "Scaling row group sizes to 85.85% for 51 writers\n",
      "25/05/28 10:39:44 WARN MemoryManager: Total allocation exceeds 95.00% (5,876,770,333 bytes) of heap memory\n",
      "Scaling row group sizes to 84.20% for 52 writers\n",
      "25/05/28 10:39:44 WARN MemoryManager: Total allocation exceeds 95.00% (5,876,770,333 bytes) of heap memory\n",
      "Scaling row group sizes to 85.85% for 51 writers\n",
      "25/05/28 10:39:44 WARN MemoryManager: Total allocation exceeds 95.00% (5,876,770,333 bytes) of heap memory\n",
      "Scaling row group sizes to 87.57% for 50 writers\n",
      "25/05/28 10:39:44 WARN MemoryManager: Total allocation exceeds 95.00% (5,876,770,333 bytes) of heap memory\n",
      "Scaling row group sizes to 89.36% for 49 writers\n",
      "25/05/28 10:39:44 WARN MemoryManager: Total allocation exceeds 95.00% (5,876,770,333 bytes) of heap memory\n",
      "Scaling row group sizes to 91.22% for 48 writers\n",
      "25/05/28 10:39:44 WARN MemoryManager: Total allocation exceeds 95.00% (5,876,770,333 bytes) of heap memory\n",
      "Scaling row group sizes to 93.16% for 47 writers\n",
      "25/05/28 10:39:44 WARN MemoryManager: Total allocation exceeds 95.00% (5,876,770,333 bytes) of heap memory\n",
      "Scaling row group sizes to 91.22% for 48 writers\n",
      "25/05/28 10:39:44 WARN MemoryManager: Total allocation exceeds 95.00% (5,876,770,333 bytes) of heap memory\n",
      "Scaling row group sizes to 89.36% for 49 writers\n",
      "25/05/28 10:39:44 WARN MemoryManager: Total allocation exceeds 95.00% (5,876,770,333 bytes) of heap memory\n",
      "Scaling row group sizes to 91.22% for 48 writers\n",
      "25/05/28 10:39:44 WARN MemoryManager: Total allocation exceeds 95.00% (5,876,770,333 bytes) of heap memory\n",
      "Scaling row group sizes to 93.16% for 47 writers\n",
      "25/05/28 10:39:44 WARN MemoryManager: Total allocation exceeds 95.00% (5,876,770,333 bytes) of heap memory\n",
      "Scaling row group sizes to 95.19% for 46 writers\n",
      "25/05/28 10:39:44 WARN MemoryManager: Total allocation exceeds 95.00% (5,876,770,333 bytes) of heap memory\n",
      "Scaling row group sizes to 97.30% for 45 writers\n",
      "25/05/28 10:39:44 WARN MemoryManager: Total allocation exceeds 95.00% (5,876,770,333 bytes) of heap memory\n",
      "Scaling row group sizes to 99.51% for 44 writers\n",
      "25/05/28 10:39:44 WARN MemoryManager: Total allocation exceeds 95.00% (5,876,770,333 bytes) of heap memory\n",
      "Scaling row group sizes to 99.51% for 44 writers\n"
     ]
    },
    {
     "name": "stderr",
     "output_type": "stream",
     "text": [
      "[Stage 4:=====================>                                 (78 + 64) / 200]\r"
     ]
    },
    {
     "name": "stdout",
     "output_type": "stream",
     "text": [
      "25/05/28 10:39:44 WARN MemoryManager: Total allocation exceeds 95.00% (5,876,770,333 bytes) of heap memory\n",
      "Scaling row group sizes to 99.51% for 44 writers\n",
      "25/05/28 10:39:44 WARN MemoryManager: Total allocation exceeds 95.00% (5,876,770,333 bytes) of heap memory\n",
      "Scaling row group sizes to 99.51% for 44 writers\n",
      "25/05/28 10:39:44 WARN MemoryManager: Total allocation exceeds 95.00% (5,876,770,333 bytes) of heap memory\n",
      "Scaling row group sizes to 97.30% for 45 writers\n",
      "25/05/28 10:39:44 WARN MemoryManager: Total allocation exceeds 95.00% (5,876,770,333 bytes) of heap memory\n",
      "Scaling row group sizes to 95.19% for 46 writers\n",
      "25/05/28 10:39:44 WARN MemoryManager: Total allocation exceeds 95.00% (5,876,770,333 bytes) of heap memory\n",
      "Scaling row group sizes to 93.16% for 47 writers\n",
      "25/05/28 10:39:44 WARN MemoryManager: Total allocation exceeds 95.00% (5,876,770,333 bytes) of heap memory\n",
      "Scaling row group sizes to 95.19% for 46 writers\n",
      "25/05/28 10:39:44 WARN MemoryManager: Total allocation exceeds 95.00% (5,876,770,333 bytes) of heap memory\n",
      "Scaling row group sizes to 97.30% for 45 writers\n",
      "25/05/28 10:39:44 WARN MemoryManager: Total allocation exceeds 95.00% (5,876,770,333 bytes) of heap memory\n",
      "Scaling row group sizes to 99.51% for 44 writers\n"
     ]
    },
    {
     "name": "stderr",
     "output_type": "stream",
     "text": [
      "[Stage 4:===============================>                      (116 + 72) / 200]\r"
     ]
    },
    {
     "name": "stdout",
     "output_type": "stream",
     "text": [
      "25/05/28 10:39:44 WARN MemoryManager: Total allocation exceeds 95.00% (5,876,770,333 bytes) of heap memory\n",
      "Scaling row group sizes to 99.51% for 44 writers\n",
      "25/05/28 10:39:44 WARN MemoryManager: Total allocation exceeds 95.00% (5,876,770,333 bytes) of heap memory\n",
      "Scaling row group sizes to 97.30% for 45 writers\n",
      "25/05/28 10:39:44 WARN MemoryManager: Total allocation exceeds 95.00% (5,876,770,333 bytes) of heap memory\n",
      "Scaling row group sizes to 95.19% for 46 writers\n",
      "25/05/28 10:39:44 WARN MemoryManager: Total allocation exceeds 95.00% (5,876,770,333 bytes) of heap memory\n",
      "Scaling row group sizes to 97.30% for 45 writers\n",
      "25/05/28 10:39:44 WARN MemoryManager: Total allocation exceeds 95.00% (5,876,770,333 bytes) of heap memory\n",
      "Scaling row group sizes to 95.19% for 46 writers\n",
      "25/05/28 10:39:44 WARN MemoryManager: Total allocation exceeds 95.00% (5,876,770,333 bytes) of heap memory\n",
      "Scaling row group sizes to 93.16% for 47 writers\n",
      "25/05/28 10:39:44 WARN MemoryManager: Total allocation exceeds 95.00% (5,876,770,333 bytes) of heap memory\n",
      "Scaling row group sizes to 91.22% for 48 writers\n",
      "25/05/28 10:39:44 WARN MemoryManager: Total allocation exceeds 95.00% (5,876,770,333 bytes) of heap memory\n",
      "Scaling row group sizes to 89.36% for 49 writers\n",
      "25/05/28 10:39:44 WARN MemoryManager: Total allocation exceeds 95.00% (5,876,770,333 bytes) of heap memory\n",
      "Scaling row group sizes to 87.57% for 50 writers\n",
      "25/05/28 10:39:44 WARN MemoryManager: Total allocation exceeds 95.00% (5,876,770,333 bytes) of heap memory\n",
      "Scaling row group sizes to 85.85% for 51 writers\n",
      "25/05/28 10:39:44 WARN MemoryManager: Total allocation exceeds 95.00% (5,876,770,333 bytes) of heap memory\n",
      "Scaling row group sizes to 84.20% for 52 writers\n",
      "25/05/28 10:39:44 WARN MemoryManager: Total allocation exceeds 95.00% (5,876,770,333 bytes) of heap memory\n",
      "Scaling row group sizes to 82.61% for 53 writers\n",
      "25/05/28 10:39:44 WARN MemoryManager: Total allocation exceeds 95.00% (5,876,770,333 bytes) of heap memory\n",
      "Scaling row group sizes to 84.20% for 52 writers\n",
      "25/05/28 10:39:44 WARN MemoryManager: Total allocation exceeds 95.00% (5,876,770,333 bytes) of heap memory\n",
      "Scaling row group sizes to 85.85% for 51 writers\n",
      "25/05/28 10:39:44 WARN MemoryManager: Total allocation exceeds 95.00% (5,876,770,333 bytes) of heap memory\n",
      "Scaling row group sizes to 87.57% for 50 writers\n",
      "25/05/28 10:39:44 WARN MemoryManager: Total allocation exceeds 95.00% (5,876,770,333 bytes) of heap memory\n",
      "Scaling row group sizes to 85.85% for 51 writers\n",
      "25/05/28 10:39:44 WARN MemoryManager: Total allocation exceeds 95.00% (5,876,770,333 bytes) of heap memory\n",
      "Scaling row group sizes to 84.20% for 52 writers\n",
      "25/05/28 10:39:44 WARN MemoryManager: Total allocation exceeds 95.00% (5,876,770,333 bytes) of heap memory\n",
      "Scaling row group sizes to 82.61% for 53 writers\n",
      "25/05/28 10:39:44 WARN MemoryManager: Total allocation exceeds 95.00% (5,876,770,333 bytes) of heap memory\n",
      "Scaling row group sizes to 84.20% for 52 writers\n",
      "25/05/28 10:39:44 WARN MemoryManager: Total allocation exceeds 95.00% (5,876,770,333 bytes) of heap memory\n",
      "Scaling row group sizes to 85.85% for 51 writers\n"
     ]
    },
    {
     "name": "stderr",
     "output_type": "stream",
     "text": [
      "[Stage 4:===================================>                  (133 + 64) / 200]\r"
     ]
    },
    {
     "name": "stdout",
     "output_type": "stream",
     "text": [
      "25/05/28 10:39:44 WARN MemoryManager: Total allocation exceeds 95.00% (5,876,770,333 bytes) of heap memory\n",
      "Scaling row group sizes to 84.20% for 52 writers\n",
      "25/05/28 10:39:44 WARN MemoryManager: Total allocation exceeds 95.00% (5,876,770,333 bytes) of heap memory\n",
      "Scaling row group sizes to 82.61% for 53 writers\n",
      "25/05/28 10:39:44 WARN MemoryManager: Total allocation exceeds 95.00% (5,876,770,333 bytes) of heap memory\n",
      "Scaling row group sizes to 81.08% for 54 writers\n",
      "25/05/28 10:39:45 WARN MemoryManager: Total allocation exceeds 95.00% (5,876,770,333 bytes) of heap memory\n",
      "Scaling row group sizes to 79.61% for 55 writers\n",
      "25/05/28 10:39:45 WARN MemoryManager: Total allocation exceeds 95.00% (5,876,770,333 bytes) of heap memory\n",
      "Scaling row group sizes to 78.19% for 56 writers\n",
      "25/05/28 10:39:45 WARN MemoryManager: Total allocation exceeds 95.00% (5,876,770,333 bytes) of heap memory\n",
      "Scaling row group sizes to 76.82% for 57 writers\n",
      "25/05/28 10:39:45 WARN MemoryManager: Total allocation exceeds 95.00% (5,876,770,333 bytes) of heap memory\n",
      "Scaling row group sizes to 75.49% for 58 writers\n",
      "25/05/28 10:39:45 WARN MemoryManager: Total allocation exceeds 95.00% (5,876,770,333 bytes) of heap memory\n",
      "Scaling row group sizes to 76.82% for 57 writers\n",
      "25/05/28 10:39:45 WARN MemoryManager: Total allocation exceeds 95.00% (5,876,770,333 bytes) of heap memory\n",
      "Scaling row group sizes to 75.49% for 58 writers\n",
      "25/05/28 10:39:45 WARN MemoryManager: Total allocation exceeds 95.00% (5,876,770,333 bytes) of heap memory\n",
      "Scaling row group sizes to 76.82% for 57 writers\n",
      "25/05/28 10:39:45 WARN MemoryManager: Total allocation exceeds 95.00% (5,876,770,333 bytes) of heap memory\n",
      "Scaling row group sizes to 75.49% for 58 writers\n",
      "25/05/28 10:39:45 WARN MemoryManager: Total allocation exceeds 95.00% (5,876,770,333 bytes) of heap memory\n",
      "Scaling row group sizes to 76.82% for 57 writers\n",
      "25/05/28 10:39:45 WARN MemoryManager: Total allocation exceeds 95.00% (5,876,770,333 bytes) of heap memory\n",
      "Scaling row group sizes to 78.19% for 56 writers\n",
      "25/05/28 10:39:45 WARN MemoryManager: Total allocation exceeds 95.00% (5,876,770,333 bytes) of heap memory\n",
      "Scaling row group sizes to 79.61% for 55 writers\n",
      "25/05/28 10:39:45 WARN MemoryManager: Total allocation exceeds 95.00% (5,876,770,333 bytes) of heap memory\n",
      "Scaling row group sizes to 81.08% for 54 writers\n",
      "25/05/28 10:39:45 WARN MemoryManager: Total allocation exceeds 95.00% (5,876,770,333 bytes) of heap memory\n",
      "Scaling row group sizes to 79.61% for 55 writers\n",
      "25/05/28 10:39:45 WARN MemoryManager: Total allocation exceeds 95.00% (5,876,770,333 bytes) of heap memory\n",
      "Scaling row group sizes to 81.08% for 54 writers\n",
      "25/05/28 10:39:45 WARN MemoryManager: Total allocation exceeds 95.00% (5,876,770,333 bytes) of heap memory\n",
      "Scaling row group sizes to 82.61% for 53 writers\n",
      "25/05/28 10:39:45 WARN MemoryManager: Total allocation exceeds 95.00% (5,876,770,333 bytes) of heap memory\n",
      "Scaling row group sizes to 81.08% for 54 writers\n",
      "25/05/28 10:39:45 WARN MemoryManager: Total allocation exceeds 95.00% (5,876,770,333 bytes) of heap memory\n",
      "Scaling row group sizes to 79.61% for 55 writers\n",
      "25/05/28 10:39:45 WARN MemoryManager: Total allocation exceeds 95.00% (5,876,770,333 bytes) of heap memory\n",
      "Scaling row group sizes to 81.08% for 54 writers\n",
      "25/05/28 10:39:45 WARN MemoryManager: Total allocation exceeds 95.00% (5,876,770,333 bytes) of heap memory\n",
      "Scaling row group sizes to 82.61% for 53 writers\n",
      "25/05/28 10:39:45 WARN MemoryManager: Total allocation exceeds 95.00% (5,876,770,333 bytes) of heap memory\n",
      "Scaling row group sizes to 84.20% for 52 writers\n",
      "25/05/28 10:39:45 WARN MemoryManager: Total allocation exceeds 95.00% (5,876,770,333 bytes) of heap memory\n",
      "Scaling row group sizes to 85.85% for 51 writers\n",
      "25/05/28 10:39:45 WARN MemoryManager: Total allocation exceeds 95.00% (5,876,770,333 bytes) of heap memory\n",
      "Scaling row group sizes to 84.20% for 52 writers\n",
      "25/05/28 10:39:45 WARN MemoryManager: Total allocation exceeds 95.00% (5,876,770,333 bytes) of heap memory\n",
      "Scaling row group sizes to 85.85% for 51 writers\n",
      "25/05/28 10:39:45 WARN MemoryManager: Total allocation exceeds 95.00% (5,876,770,333 bytes) of heap memory\n",
      "Scaling row group sizes to 87.57% for 50 writers\n",
      "25/05/28 10:39:45 WARN MemoryManager: Total allocation exceeds 95.00% (5,876,770,333 bytes) of heap memory\n",
      "Scaling row group sizes to 89.36% for 49 writers\n",
      "25/05/28 10:39:45 WARN MemoryManager: Total allocation exceeds 95.00% (5,876,770,333 bytes) of heap memory\n",
      "Scaling row group sizes to 91.22% for 48 writers\n",
      "25/05/28 10:39:45 WARN MemoryManager: Total allocation exceeds 95.00% (5,876,770,333 bytes) of heap memory\n",
      "Scaling row group sizes to 93.16% for 47 writers\n",
      "25/05/28 10:39:45 WARN MemoryManager: Total allocation exceeds 95.00% (5,876,770,333 bytes) of heap memory\n",
      "Scaling row group sizes to 95.19% for 46 writers\n",
      "25/05/28 10:39:45 WARN MemoryManager: Total allocation exceeds 95.00% (5,876,770,333 bytes) of heap memory\n",
      "Scaling row group sizes to 97.30% for 45 writers\n",
      "25/05/28 10:39:45 WARN MemoryManager: Total allocation exceeds 95.00% (5,876,770,333 bytes) of heap memory\n",
      "Scaling row group sizes to 99.51% for 44 writers\n",
      "25/05/28 10:39:45 WARN MemoryManager: Total allocation exceeds 95.00% (5,876,770,333 bytes) of heap memory\n",
      "Scaling row group sizes to 97.30% for 45 writers\n",
      "25/05/28 10:39:45 WARN MemoryManager: Total allocation exceeds 95.00% (5,876,770,333 bytes) of heap memory\n",
      "Scaling row group sizes to 95.19% for 46 writers\n",
      "25/05/28 10:39:45 WARN MemoryManager: Total allocation exceeds 95.00% (5,876,770,333 bytes) of heap memory\n",
      "Scaling row group sizes to 93.16% for 47 writers\n",
      "25/05/28 10:39:45 WARN MemoryManager: Total allocation exceeds 95.00% (5,876,770,333 bytes) of heap memory\n",
      "Scaling row group sizes to 95.19% for 46 writers\n",
      "25/05/28 10:39:45 WARN MemoryManager: Total allocation exceeds 95.00% (5,876,770,333 bytes) of heap memory\n",
      "Scaling row group sizes to 97.30% for 45 writers\n",
      "25/05/28 10:39:45 WARN MemoryManager: Total allocation exceeds 95.00% (5,876,770,333 bytes) of heap memory\n",
      "Scaling row group sizes to 99.51% for 44 writers\n"
     ]
    },
    {
     "name": "stderr",
     "output_type": "stream",
     "text": [
      "                                                                                \r"
     ]
    },
    {
     "name": "stdout",
     "output_type": "stream",
     "text": [
      "✓ stage03_clean_with_ticker : /scratch/midway3/zhengzhiyu6689/macs30123/project/reddit/stage03_clean_with_ticker\n"
     ]
    }
   ],
   "source": [
    "from pyspark.sql import functions as F, types as T\n",
    "\n",
    "# Source and destination directories on Midway filesystem\n",
    "SRC = \"/scratch/midway3/zhengzhiyu6689/macs30123/project/reddit/stage02_with_ticker\"\n",
    "OUT = \"/scratch/midway3/zhengzhiyu6689/macs30123/project/reddit/stage03_clean_with_ticker\"\n",
    "\n",
    "# Read the previously saved Parquet data including extracted tickers\n",
    "df = spark.read.parquet(SRC)\n",
    "\n",
    "# Filter out rows where 'selftext' is null, empty, or contains only placeholders\n",
    "non_empty = df.filter(\n",
    "    (F.col(\"selftext\").isNotNull()) &\n",
    "    (F.trim(\"selftext\") != \"\") &\n",
    "    (~F.lower(F.trim(\"selftext\")).isin(\"[removed]\", \"[deleted]\"))\n",
    ")\n",
    "\n",
    "# Regular expressions for URLs, Markdown characters, and whitespace\n",
    "URL_RE   = r'https?://\\S+|www\\.\\S+'\n",
    "MD_RE    = r'[*_`>~\\[\\]\\(\\)]'\n",
    "SPACE_RE = r'\\s+'\n",
    "\n",
    "# Clean the 'selftext' column:\n",
    "# 1. Remove URLs\n",
    "# 2. Strip Markdown punctuation\n",
    "# 3. Collapse multiple spaces into single space\n",
    "# 4. Lowercase all text\n",
    "# Retain the 'ticker' column for downstream analysis\n",
    "clean = (\n",
    "    non_empty\n",
    "    .withColumn(\n",
    "        \"clean_text\",\n",
    "        F.lower(F.regexp_replace(\"selftext\", URL_RE, \" \"))\n",
    "    )\n",
    "    .withColumn(\n",
    "        \"clean_text\",\n",
    "        F.regexp_replace(\"clean_text\", MD_RE, \" \")\n",
    "    )\n",
    "    .withColumn(\n",
    "        \"clean_text\",\n",
    "        F.regexp_replace(\"clean_text\", SPACE_RE, \" \")\n",
    "    )\n",
    "    .select(\n",
    "        \"id\",\n",
    "        \"created_utc\",\n",
    "        \"subreddit\",\n",
    "        \"ticker\",                      # preserve extracted ticker column\n",
    "        F.trim(\"clean_text\").alias(\"clean_text\")\n",
    "    )\n",
    ")\n",
    "\n",
    "# Repartition the cleaned DataFrame for parallel write (200 partitions)\n",
    "(clean.repartition(200)\n",
    "      .write.mode(\"overwrite\")\n",
    "      .parquet(OUT))\n",
    "\n",
    "print(\"✓ stage03_clean_with_ticker written to:\", OUT)\n"
   ]
  }
 ],
 "metadata": {
  "kernelspec": {
   "display_name": "base",
   "language": "python",
   "name": "python3"
  },
  "language_info": {
   "codemirror_mode": {
    "name": "ipython",
    "version": 3
   },
   "file_extension": ".py",
   "mimetype": "text/x-python",
   "name": "python",
   "nbconvert_exporter": "python",
   "pygments_lexer": "ipython3",
   "version": "3.9.19"
  }
 },
 "nbformat": 4,
 "nbformat_minor": 5
}
